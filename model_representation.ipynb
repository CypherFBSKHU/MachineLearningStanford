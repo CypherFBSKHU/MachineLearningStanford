{
  "nbformat": 4,
  "nbformat_minor": 0,
  "metadata": {
    "colab": {
      "provenance": []
    },
    "kernelspec": {
      "name": "python3",
      "display_name": "Python 3"
    },
    "language_info": {
      "name": "python"
    }
  },
  "cells": [
    {
      "cell_type": "markdown",
      "source": [
        "**Model Representation**"
      ],
      "metadata": {
        "id": "8C30id4LYWi4"
      }
    },
    {
      "cell_type": "markdown",
      "source": [
        "Goal: Learn to implement the model $f_{w,b}$ for linear regression with one variable"
      ],
      "metadata": {
        "id": "BKW3f-_SYegm"
      }
    },
    {
      "cell_type": "markdown",
      "source": [
        "**Tools:**"
      ],
      "metadata": {
        "id": "eH-udpWyZU4T"
      }
    },
    {
      "cell_type": "markdown",
      "source": [
        "- Numpy, a popular library for scientific computing.\n",
        "- Matplotlib, a popular library for plotting data.\n"
      ],
      "metadata": {
        "id": "S_DW61MoZZh4"
      }
    },
    {
      "cell_type": "code",
      "source": [
        "import numpy as np\n",
        "import matplotlib.pyplot as plt"
      ],
      "metadata": {
        "id": "z5DARcKRZptG"
      },
      "execution_count": 8,
      "outputs": []
    },
    {
      "cell_type": "markdown",
      "source": [
        "**Problem Statement:**"
      ],
      "metadata": {
        "id": "uCJCzuMJZ2ul"
      }
    },
    {
      "cell_type": "markdown",
      "source": [
        "| Size (1000 sqft) | Price (1000s of dollars) |\n",
        "|----------|----------|\n",
        "| 1.0    | 300   |\n",
        "| 2.0    | 500   |\n"
      ],
      "metadata": {
        "id": "SpEDL7fQZ8Wv"
      }
    },
    {
      "cell_type": "markdown",
      "source": [
        "You would like to fit a linear regression model through these two points, so you can then predict price for other houses - say, a house with 1200 sqft."
      ],
      "metadata": {
        "id": "CKPOboWnaaE3"
      }
    },
    {
      "cell_type": "code",
      "source": [
        "# x_train is the input variables (size in 1000 square feet)\n",
        "# y_train is the target (price in 1000s of dollars)\n",
        "\n",
        "x_train = np.array([1.0, 2.0])\n",
        "y_train = np.array([300, 500])\n",
        "\n",
        "print(f\"x_train = {x_train}\")\n",
        "print(f\"y_train = {y_train}\")"
      ],
      "metadata": {
        "id": "ZKhQWtEAbAEn",
        "colab": {
          "base_uri": "https://localhost:8080/"
        },
        "outputId": "48f09d34-c452-4904-e6ef-7a70bb015f31"
      },
      "execution_count": 9,
      "outputs": [
        {
          "output_type": "stream",
          "name": "stdout",
          "text": [
            "x_train = [1. 2.]\n",
            "y_train = [300 500]\n"
          ]
        }
      ]
    },
    {
      "cell_type": "markdown",
      "source": [
        "**Number of training examples (m)**"
      ],
      "metadata": {
        "id": "IQ3eOBkHQlex"
      }
    },
    {
      "cell_type": "markdown",
      "source": [
        "Numpy arrays have a .shape parameter. x_train.shape returns a python tuple with an entry for each dimension. x_train.shape[0] is the length of the array and number of examples as shown below."
      ],
      "metadata": {
        "id": "-WGTYsdMR8_K"
      }
    },
    {
      "cell_type": "code",
      "source": [
        "print(f\"x_train.shape: {x_train.shape}\")\n",
        "\n",
        "m = x_train.shape[0]\n",
        "\n",
        "print(f\"Number of training examples is: {m}\")"
      ],
      "metadata": {
        "colab": {
          "base_uri": "https://localhost:8080/"
        },
        "id": "nEHU80aFSNTG",
        "outputId": "e90c386f-57ab-4616-f7a3-ce8ae9f25c8d"
      },
      "execution_count": 10,
      "outputs": [
        {
          "output_type": "stream",
          "name": "stdout",
          "text": [
            "x_train.shape: (2,)\n",
            "Number of training examples is: 2\n"
          ]
        }
      ]
    },
    {
      "cell_type": "markdown",
      "source": [
        "One can also use the Python **len()** function as shown below."
      ],
      "metadata": {
        "id": "RTQJEcBlVn66"
      }
    },
    {
      "cell_type": "code",
      "source": [
        "m = len(x_train)\n",
        "print(f\"Number of training examples is: {m}\")"
      ],
      "metadata": {
        "colab": {
          "base_uri": "https://localhost:8080/"
        },
        "id": "8DxmFvO3VtZZ",
        "outputId": "c7929950-753d-45e1-d5e3-2beeb4cbfb4a"
      },
      "execution_count": 11,
      "outputs": [
        {
          "output_type": "stream",
          "name": "stdout",
          "text": [
            "Number of training examples is: 2\n"
          ]
        }
      ]
    },
    {
      "cell_type": "markdown",
      "source": [
        "**Training example x_i and y_i**"
      ],
      "metadata": {
        "id": "fJqX-rV3WFXe"
      }
    },
    {
      "cell_type": "markdown",
      "source": [
        "You will use ($x^{(i)},y^{(i)}$) to denote the training example. Since Python is zero indexed, ($x^{(0)},y^{(0)}$)is (1.0, 300.0) and ($x^{(1)},y^{(1)}$)is (2.0, 500.0).\n",
        "\n",
        "To access a value in a Numpy array, one indexes the array with the desired offset. For example the syntax to access location zero of x_train is x_train[0].\n"
      ],
      "metadata": {
        "id": "9WaORN0NWfpj"
      }
    },
    {
      "cell_type": "code",
      "source": [
        "i = 0 # Change this to see (x^1, y^1)\n",
        "\n",
        "x_i = x_train[i]\n",
        "y_i = y_train[i]\n",
        "\n",
        "print(f\"(x^({i}), y^({i}) = ({x_i}, {y_i})\")"
      ],
      "metadata": {
        "colab": {
          "base_uri": "https://localhost:8080/"
        },
        "id": "ua7IGEwYYTGJ",
        "outputId": "acdbde49-4082-4525-b930-4b935e74b808"
      },
      "execution_count": 12,
      "outputs": [
        {
          "output_type": "stream",
          "name": "stdout",
          "text": [
            "(x^(0), y^(0) = (1.0, 300)\n"
          ]
        }
      ]
    },
    {
      "cell_type": "markdown",
      "source": [
        "**Plotting the data**"
      ],
      "metadata": {
        "id": "Oi5KDSN-ZOWH"
      }
    },
    {
      "cell_type": "markdown",
      "source": [
        "You can plot these two points using the scatter() function in the matplotlib library, as shown in the cell below."
      ],
      "metadata": {
        "id": "50YysJyKZwoe"
      }
    },
    {
      "cell_type": "markdown",
      "source": [
        "- The function arguments marker and c show the points as red crosses (the default is blue dots)."
      ],
      "metadata": {
        "id": "lNWsW78ZaGL_"
      }
    },
    {
      "cell_type": "code",
      "source": [
        "# Plot the data points\n",
        "plt.scatter(x_train, y_train, marker='x', c='r')\n",
        "\n",
        "# Set the title\n",
        "plt.title(\"Housing Prices\")\n",
        "\n",
        "# Set the y-axis label\n",
        "plt.ylabel('Price (in 1000s of dollars)')\n",
        "\n",
        "# Set the x-axis label\n",
        "plt.xlabel('Size (1000 sqft)')\n",
        "\n",
        "plt.show()"
      ],
      "metadata": {
        "colab": {
          "base_uri": "https://localhost:8080/",
          "height": 472
        },
        "id": "IlT6f6udaMjH",
        "outputId": "2a0ff265-50cc-4265-e5ec-deaf92374a85"
      },
      "execution_count": 13,
      "outputs": [
        {
          "output_type": "display_data",
          "data": {
            "text/plain": [
              "<Figure size 640x480 with 1 Axes>"
            ],
            "image/png": "[encoded data removed]"
          },
          "metadata": {}
        }
      ]
    },
    {
      "cell_type": "markdown",
      "source": [
        "**Model Function**"
      ],
      "metadata": {
        "id": "qPAy8LxYbEgO"
      }
    },
    {
      "cell_type": "markdown",
      "source": [
        "$f_{(w,b)}(x^{(i)}) = wx^{(i)} + b$"
      ],
      "metadata": {
        "id": "ca0Er1TBbIGp"
      }
    },
    {
      "cell_type": "markdown",
      "source": [
        "We're starting with w = 200 and b = 100"
      ],
      "metadata": {
        "id": "iWC7hVlTbnoV"
      }
    },
    {
      "cell_type": "code",
      "source": [
        "w = 200\n",
        "b = 100\n",
        "print(f\"w: {w}\")\n",
        "print(f\"b: {b}\")"
      ],
      "metadata": {
        "colab": {
          "base_uri": "https://localhost:8080/"
        },
        "id": "-vTJ4yHmbu4w",
        "outputId": "ddac9d94-4eec-43f1-e2a0-7cb926877745"
      },
      "execution_count": 27,
      "outputs": [
        {
          "output_type": "stream",
          "name": "stdout",
          "text": [
            "w: 200\n",
            "b: 100\n"
          ]
        }
      ]
    },
    {
      "cell_type": "markdown",
      "source": [
        "Compute the value of f for the two data points"
      ],
      "metadata": {
        "id": "80J7vbjWcLn4"
      }
    },
    {
      "cell_type": "markdown",
      "source": [
        "for $x^{(0)}$, f_wb = w * x[0] + b\n",
        "$$$$\n",
        "for $x^{(1)}$, f_wb = w * x[1] + b"
      ],
      "metadata": {
        "id": "1FNkjAeocbTm"
      }
    },
    {
      "cell_type": "markdown",
      "source": [
        "For a large number of data points, this can get unwieldy and repetitive. So instead, you can calculate the function output in a for loop as shown in the compute_model_output function below."
      ],
      "metadata": {
        "id": "8tQGSLABc9tX"
      }
    },
    {
      "cell_type": "markdown",
      "source": [
        "Note: The argument description (ndarray (m,)) describes a Numpy n-dimensional array of shape (m,). (scalar) describes an argument without dimensions, just a magnitude.\n",
        "Note: np.zero(n) will return a one-dimensional numpy array with\n",
        " entries"
      ],
      "metadata": {
        "id": "xyKSAqordGrj"
      }
    },
    {
      "cell_type": "code",
      "source": [
        "def compute_model_output(x, w, b):\n",
        "  \"\"\"\n",
        "  Computes the prediction of a linear model\n",
        "  Args:\n",
        "    x (ndarray (m,)): Data, m examples\n",
        "    w,b (scalar): model parameters\n",
        "  Returns\n",
        "    y (ndarray (m,)): target values\n",
        "  \"\"\"\n",
        "\n",
        "  m = x.shape[0]\n",
        "  f_wb = np.zeros(m) # This creates a NumPy array of size m, where all elements are initialized to 0.\n",
        "\n",
        "  for i in range(m):\n",
        "    f_wb[i] = w * x[i] + b\n",
        "\n",
        "  return f_wb"
      ],
      "metadata": {
        "id": "yTkjEnv0dOBV"
      },
      "execution_count": 15,
      "outputs": []
    },
    {
      "cell_type": "markdown",
      "source": [
        "call the compute_model_output function and plot the output"
      ],
      "metadata": {
        "id": "vbqfA52cgsCO"
      }
    },
    {
      "cell_type": "code",
      "source": [
        "tmp_f_wb = compute_model_output(x_train, w, b,)\n",
        "\n",
        "# Plot the model prediction\n",
        "plt.plot(x_train, tmp_f_wb, c='b', label='Prediction')\n",
        "\n",
        "# Plot the data points\n",
        "plt.scatter(x_train, y_train, marker='x', c='r', label='Actual Values')\n",
        "\n",
        "# Set the title\n",
        "plt.title(\"Housing Prices\")\n",
        "\n",
        "# Set the y-axis label\n",
        "plt.ylabel('Price (in 1000s of dollars)')\n",
        "\n",
        "# Set the x-axis label\n",
        "plt.xlabel('Size (1000 sqft)')\n",
        "\n",
        "plt.legend()\n",
        "plt.show()\n"
      ],
      "metadata": {
        "colab": {
          "base_uri": "https://localhost:8080/",
          "height": 472
        },
        "id": "AQaORMdjgt9x",
        "outputId": "6ba7b7a2-0c7d-430a-f724-df79618a9c38"
      },
      "execution_count": 26,
      "outputs": [
        {
          "output_type": "display_data",
          "data": {
            "text/plain": [
              "<Figure size 640x480 with 1 Axes>"
            ],
            "image/png": "[encoded data removed]"
          },
          "metadata": {}
        }
      ]
    },
    {
      "cell_type": "markdown",
      "source": [
        "w = 200 and b = 100 best fits the data"
      ],
      "metadata": {
        "id": "ABTdgEhHkmYv"
      }
    }
  ]
}